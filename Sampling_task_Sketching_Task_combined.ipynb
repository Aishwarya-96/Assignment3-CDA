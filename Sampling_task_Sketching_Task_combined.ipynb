{
 "cells": [
  {
   "cell_type": "code",
   "execution_count": 8,
   "metadata": {
    "collapsed": true
   },
   "outputs": [],
   "source": [
    "import pandas as pd\n",
    "import numpy as np\n",
    "import random\n",
    "import math\n",
    "import time"
   ]
  },
  {
   "cell_type": "markdown",
   "metadata": {},
   "source": [
    "#### Sampling Task"
   ]
  },
  {
   "cell_type": "code",
   "execution_count": 9,
   "metadata": {
    "collapsed": true
   },
   "outputs": [],
   "source": [
    "def minWise(data,k):\n",
    "    reservoir = []\n",
    "    sample = []\n",
    "    for index,d in data.iterrows():\n",
    "        rnd = random.uniform(0,1)\n",
    "        # first fill the reservoir\n",
    "        if len(reservoir) < k:\n",
    "            reservoir.append(rnd)\n",
    "            sample.append(d)\n",
    "        try:\n",
    "            # Based on random number, replace Netflows with new ones\n",
    "            idx = next(x[0] for x in enumerate(reservoir) if x[1] > rnd)\n",
    "            reservoir[idx] = rnd\n",
    "            sample[idx] = d\n",
    "        except StopIteration:\n",
    "            continue\n",
    "        except ValueError:\n",
    "            continue\n",
    "    return pd.DataFrame(sample,columns=data.columns.values,index=range(k))"
   ]
  },
  {
   "cell_type": "code",
   "execution_count": 3,
   "metadata": {},
   "outputs": [
    {
     "data": {
      "text/plain": [
       "\"\\n# preporecessing step\\nnetflw1 = pd.read_csv('capture20110815-2.pcap.netflow.csv')\\nprint(netflw1.head())\\n#print(netflw1.columns.values)\\n#netflw1 = netflw1.drop('->',axis=1)\\n#netflw1 = netflw1.rename(columns={'#Date_flow':'DateFlow','Label(LEGITIMATE:Botnet:Background)':'Label',\\n#                                  'Src_IP_Addr:Port':'Src','Dst_IP_Addr:Port':'Dst'})\\n\\nprint(len(netflw1))\\n#netslice = netflw1.loc[1:30,:]\\nnetflw1[['Src_Addr','Src_Port']] = netflw1['Src'].str.split(':',1,expand=True)\\nnetflw1[['Dst_Addr','Dst_Port']] = netflw1['Dst'].str.split(':',1,expand=True)\\nnetflw1.drop(['Src','Dst'], inplace=True, axis=1)\\nnetflw1.to_csv('capture20110815.pcap.netflow.csv')\\n\""
      ]
     },
     "execution_count": 3,
     "metadata": {},
     "output_type": "execute_result"
    }
   ],
   "source": [
    "\n",
    "'''\n",
    "# preporecessing step\n",
    "netflw1 = pd.read_csv('capture20110815-2.pcap.netflow.csv')\n",
    "print(netflw1.head())\n",
    "#print(netflw1.columns.values)\n",
    "#netflw1 = netflw1.drop('->',axis=1)\n",
    "#netflw1 = netflw1.rename(columns={'#Date_flow':'DateFlow','Label(LEGITIMATE:Botnet:Background)':'Label',\n",
    "#                                  'Src_IP_Addr:Port':'Src','Dst_IP_Addr:Port':'Dst'})\n",
    "\n",
    "print(len(netflw1))\n",
    "#netslice = netflw1.loc[1:30,:]\n",
    "netflw1[['Src_Addr','Src_Port']] = netflw1['Src'].str.split(':',1,expand=True)\n",
    "netflw1[['Dst_Addr','Dst_Port']] = netflw1['Dst'].str.split(':',1,expand=True)\n",
    "netflw1.drop(['Src','Dst'], inplace=True, axis=1)\n",
    "netflw1.to_csv('capture20110815.pcap.netflow.csv')\n",
    "'''"
   ]
  },
  {
   "cell_type": "code",
   "execution_count": 10,
   "metadata": {},
   "outputs": [
    {
     "name": "stderr",
     "output_type": "stream",
     "text": [
      "C:\\Users\\arica\\AppData\\Local\\conda\\conda\\envs\\my_root\\lib\\site-packages\\IPython\\core\\interactiveshell.py:2717: DtypeWarning: Columns (15) have mixed types. Specify dtype option on import or set low_memory=False.\n",
      "  interactivity=interactivity, compiler=compiler, result=result)\n"
     ]
    }
   ],
   "source": [
    "# netflow file has been pre-processed. src and dst ip addressed have been splited from corresponding port addresses\n",
    "# read pre-processed file\n",
    "df = pd.read_csv('capture20110815.pcap.netflow.csv')\n",
    "#print(df.head())"
   ]
  },
  {
   "cell_type": "code",
   "execution_count": 11,
   "metadata": {
    "collapsed": true
   },
   "outputs": [],
   "source": [
    "# count ip ocurrences to find infected host. the most common ip address has been chosen as infected host\n",
    "# which indicates the most frequent connections\n",
    "\n",
    "# drop other connections\n",
    "df = df[(df['Src_Addr'] == '147.32.84.229') | (df['Dst_Addr'] == '147.32.84.229')]\n",
    "df = df.dropna()\n",
    "#print(df.head())"
   ]
  },
  {
   "cell_type": "code",
   "execution_count": 12,
   "metadata": {
    "collapsed": true
   },
   "outputs": [],
   "source": [
    "# calculate ip address frequency which are connected with the infected host\n",
    "ip_count = {}\n",
    "# count outgoing connections\n",
    "for ip in df['Dst_Addr']:\n",
    "    if ip == '147.32.84.229':\n",
    "        continue\n",
    "    if ip in ip_count.keys():\n",
    "        ip_count[ip] += 1\n",
    "    else:\n",
    "        ip_count[ip] = 1\n",
    "\n",
    "# count in coming connections\n",
    "for ip in df['Src_Addr']:\n",
    "    if ip == '147.32.84.229':\n",
    "        continue\n",
    "    if ip in ip_count.keys():\n",
    "        ip_count[ip] += 1\n",
    "    else:\n",
    "        ip_count[ip] = 1"
   ]
  },
  {
   "cell_type": "code",
   "execution_count": 13,
   "metadata": {
    "collapsed": true
   },
   "outputs": [],
   "source": [
    "#for ip in ip_count:\n",
    "#    print('IP: {}\\t Count: {}'.format(ip,ip_count[ip]))\n",
    "\n",
    "top_IPs = sorted(ip_count, key=ip_count.get, reverse=True)[:10]"
   ]
  },
  {
   "cell_type": "code",
   "execution_count": 14,
   "metadata": {
    "collapsed": true
   },
   "outputs": [],
   "source": [
    "# Statistics of distribution\n",
    "dist = []\n",
    "sample = []\n",
    "sample.append(ip_count)"
   ]
  },
  {
   "cell_type": "code",
   "execution_count": 15,
   "metadata": {},
   "outputs": [
    {
     "name": "stdout",
     "output_type": "stream",
     "text": [
      "\n",
      "Top 10 IP Adresses with relative frequencies\n",
      "\n",
      "IP: 81.90.162.3\tCount: 445\n",
      "IP: 208.88.186.6\tCount: 427\n",
      "IP: 87.100.20.56\tCount: 407\n",
      "IP: 193.165.178.157\tCount: 387\n",
      "IP: 161.111.235.112\tCount: 383\n",
      "IP: 94.209.77.164\tCount: 372\n",
      "IP: 145.246.240.14\tCount: 372\n",
      "IP: 77.71.211.112\tCount: 305\n",
      "IP: 93.104.50.143\tCount: 291\n",
      "IP: 135.196.109.101\tCount: 273\n"
     ]
    }
   ],
   "source": [
    "# top 10 IP addresses\n",
    "print('\\nTop 10 IP Adresses with relative frequencies\\n')\n",
    "for ip in top_IPs:\n",
    "    print('IP: {}\\tCount: {}'.format(ip,ip_count[ip]))"
   ]
  },
  {
   "cell_type": "code",
   "execution_count": 16,
   "metadata": {},
   "outputs": [
    {
     "name": "stdout",
     "output_type": "stream",
     "text": [
      "\n",
      "SAmple Size k: 10000\n",
      "Sample generation time : 00:00:25\n",
      "Approximation error mean: 22.469573786646958\n",
      "Standard Deviation: 24.24951897107075\n",
      "\n",
      "SAmple Size k: 12000\n",
      "Sample generation time : 00:00:23\n",
      "Approximation error mean: 18.609781918272283\n",
      "Standard Deviation: 21.338285501269336\n",
      "\n",
      "SAmple Size k: 14000\n",
      "Sample generation time : 00:00:23\n",
      "Approximation error mean: 16.5293671845396\n",
      "Standard Deviation: 19.432050206662566\n",
      "\n",
      "SAmple Size k: 16000\n",
      "Sample generation time : 00:00:21\n",
      "Approximation error mean: 14.505825908156272\n",
      "Standard Deviation: 17.852869487109633\n",
      "\n",
      "SAmple Size k: 18000\n",
      "Sample generation time : 00:00:21\n",
      "Approximation error mean: 13.009073842302879\n",
      "Standard Deviation: 16.50238668272219\n"
     ]
    }
   ],
   "source": [
    "estimation = []\n",
    "# Sampling process\n",
    "for k in range(10000,20000,2000):\n",
    "    print('\\nSample Size k: {}'.format(k))\n",
    "    start = time.time()\n",
    "    mw10000 = minWise(df,k)\n",
    "    ellapsed_time = time.strftime(\"%H:%M:%S\", time.gmtime(time.time() - start))\n",
    "    print('Sample generation time : {}'.format(ellapsed_time))\n",
    "\n",
    "    ip_count_sample = {}\n",
    "    # count out going connections\n",
    "    for ip in mw10000['Dst_Addr']:\n",
    "        if ip == '147.32.84.229':\n",
    "            continue\n",
    "        if ip in ip_count_sample.keys():\n",
    "            ip_count_sample[ip] += 1\n",
    "        else:\n",
    "            ip_count_sample[ip] = 1\n",
    "\n",
    "    # count in coming connections\n",
    "    for ip in mw10000['Src_Addr']:\n",
    "        if ip == '147.32.84.229':\n",
    "            continue\n",
    "        if ip in ip_count_sample.keys():\n",
    "            ip_count_sample[ip] += 1\n",
    "        else:\n",
    "            ip_count_sample[ip] = 1\n",
    "    \n",
    "    # compute estimated ocurrences\n",
    "    ip_estimate_sample = {}\n",
    "    top_IPs_sample = sorted(ip_count_sample, key=ip_count_sample.get, reverse=True)[:10]\n",
    "    mean_sample = sum(ip_count_sample[ip] for ip in ip_count_sample)/len(ip_count_sample)\n",
    "\n",
    "    for ip in ip_count_sample:\n",
    "        ip_estimate_sample[ip] = math.ceil((ip_count_sample[ip]/len(mw10000))*len(df))\n",
    "\n",
    "    estimation.append(ip_estimate_sample)\n",
    "    \n",
    "    # compute approximation error statistics\n",
    "    apprx_err = []\n",
    "    for ip in ip_estimate_sample:\n",
    "        apprx_err.append(ip_estimate_sample[ip] - ip_count[ip])\n",
    "\n",
    "    print('Approximation error mean: {}\\nStandard Deviation: {}'\n",
    "          .format(np.mean(apprx_err),np.std(apprx_err)))"
   ]
  },
  {
   "cell_type": "code",
   "execution_count": 24,
   "metadata": {},
   "outputs": [
    {
     "name": "stdout",
     "output_type": "stream",
     "text": [
      "\n",
      "Top 10 Sampled IP Adresses from sample size 5278\n",
      "\n",
      "IP: 87.100.20.56\tExpected Count: 407\tEstimation: 448\n",
      "IP: 208.88.186.6\tExpected Count: 427\tEstimation: 411\n",
      "IP: 81.90.162.3\tExpected Count: 445\tEstimation: 411\n",
      "IP: 82.103.138.49\tExpected Count: 38\tEstimation: 398\n",
      "IP: 145.246.240.14\tExpected Count: 372\tEstimation: 374\n",
      "IP: 94.144.63.10\tExpected Count: 101\tEstimation: 361\n",
      "IP: 86.25.197.54\tExpected Count: 240\tEstimation: 324\n",
      "IP: 221.120.9.117\tExpected Count: 110\tEstimation: 324\n",
      "IP: 188.4.163.203\tExpected Count: 63\tEstimation: 311\n",
      "IP: 94.209.77.164\tExpected Count: 372\tEstimation: 311\n"
     ]
    }
   ],
   "source": [
    "# Top 10 IP Addresses from one of samples\n",
    "print('\\nTop 10 Sampled IP Adresses from sample size {}\\n'.format(k)\n",
    "top_IPs_sample = sorted(estimation[-1], key=estimation[-1].get, reverse=True)[:10]\n",
    "for ip in top_IPs_sample:\n",
    "    print('IP: {}\\tExpected Count: {}\\tEstimation: {}'.format(ip,ip_count[ip],round(estimation[-1][ip],3)))"
   ]
  },
  {
   "cell_type": "markdown",
   "metadata": {},
   "source": [
    "#### Sketching Task"
   ]
  },
  {
   "cell_type": "code",
   "execution_count": 18,
   "metadata": {
    "collapsed": true
   },
   "outputs": [],
   "source": [
    "class CountMin:\n",
    "    \n",
    "    def __init__(self, w, d):\n",
    "        self.size = w*d\n",
    "        self.w = w\n",
    "        self.hash_count = d\n",
    "        self.cm_array =  [[0]*w for i in range(d)]\n",
    "        \n",
    "    def add(self, string):\n",
    "        for seed in range(self.hash_count):\n",
    "            result = mmh3.hash(string, seed) % self.w\n",
    "            self.cm_array[seed][result] += 1\n",
    "        \n",
    "    def point(self, string):\n",
    "        min = 1000000000000\n",
    "        for seed in range(self.hash_count):\n",
    "            result = mmh3.hash(string, seed) % self.w\n",
    "            if self.cm_array[seed][result]<min:\n",
    "                min = self.cm_array[seed][result]\n",
    "        return min"
   ]
  },
  {
   "cell_type": "code",
   "execution_count": 19,
   "metadata": {},
   "outputs": [],
   "source": [
    "stream_ips=df['Src_Addr']"
   ]
  },
  {
   "cell_type": "code",
   "execution_count": 20,
   "metadata": {},
   "outputs": [
    {
     "name": "stdout",
     "output_type": "stream",
     "text": [
      "The number of distinct IP addresses is: 32766\n"
     ]
    }
   ],
   "source": [
    "print(\"The number of distinct IP addresses is: %s\" %len(set(stream_ips)))"
   ]
  },
  {
   "cell_type": "code",
   "execution_count": 21,
   "metadata": {},
   "outputs": [
    {
     "name": "stdout",
     "output_type": "stream",
     "text": [
      "('147.32.84.229', 76790)\n",
      "('81.90.162.3', 225)\n",
      "('208.88.186.6', 214)\n",
      "('87.100.20.56', 201)\n",
      "('193.165.178.157', 195)\n",
      "('161.111.235.112', 193)\n",
      "('94.209.77.164', 188)\n",
      "('145.246.240.14', 187)\n",
      "('77.71.211.112', 152)\n",
      "('93.104.50.143', 145)\n"
     ]
    }
   ],
   "source": [
    "\n",
    "# count the frequency of each IP address\n",
    "freq = Counter(stream_ips)\n",
    "\n",
    "# we find the top 10 frequent adrress by sorting them\n",
    "sorted_el = sorted(freq.items(), key=operator.itemgetter(1), reverse = True)\n",
    "\n",
    "# Print the 10 most frequent IP addresses\n",
    "for i in range(10):\n",
    "    print (sorted_el[i])"
   ]
  },
  {
   "cell_type": "code",
   "execution_count": 2,
   "metadata": {},
   "outputs": [
    {
     "name": "stdout",
     "output_type": "stream",
     "text": [
      "Collecting mmh3\n",
      "Installing collected packages: mmh3\n"
     ]
    },
    {
     "name": "stderr",
     "output_type": "stream",
     "text": [
      "Exception:\n",
      "Traceback (most recent call last):\n",
      "  File \"C:\\Program Files\\Anaconda3\\lib\\site-packages\\pip\\basecommand.py\", line 215, in main\n",
      "    status = self.run(options, args)\n",
      "  File \"C:\\Program Files\\Anaconda3\\lib\\site-packages\\pip\\commands\\install.py\", line 317, in run\n",
      "    prefix=options.prefix_path,\n",
      "  File \"C:\\Program Files\\Anaconda3\\lib\\site-packages\\pip\\req\\req_set.py\", line 742, in install\n",
      "    **kwargs\n",
      "  File \"C:\\Program Files\\Anaconda3\\lib\\site-packages\\pip\\req\\req_install.py\", line 831, in install\n",
      "    self.move_wheel_files(self.source_dir, root=root, prefix=prefix)\n",
      "  File \"C:\\Program Files\\Anaconda3\\lib\\site-packages\\pip\\req\\req_install.py\", line 1032, in move_wheel_files\n",
      "    isolated=self.isolated,\n",
      "  File \"C:\\Program Files\\Anaconda3\\lib\\site-packages\\pip\\wheel.py\", line 346, in move_wheel_files\n",
      "    clobber(source, lib_dir, True)\n",
      "  File \"C:\\Program Files\\Anaconda3\\lib\\site-packages\\pip\\wheel.py\", line 324, in clobber\n",
      "    shutil.copyfile(srcfile, destfile)\n",
      "  File \"C:\\Program Files\\Anaconda3\\lib\\shutil.py\", line 115, in copyfile\n",
      "    with open(dst, 'wb') as fdst:\n",
      "PermissionError: [Errno 13] Permission denied: 'C:\\\\Program Files\\\\Anaconda3\\\\Lib\\\\site-packages\\\\mmh3.cp35-win_amd64.pyd'\n",
      "You are using pip version 8.1.2, however version 10.0.1 is available.\n",
      "You should consider upgrading via the 'python -m pip install --upgrade pip' command.\n"
     ]
    }
   ],
   "source": [
    "#need visual studio C++ 14.0 to install it\n",
    "!pip install mmh3 "
   ]
  },
  {
   "cell_type": "code",
   "execution_count": 4,
   "metadata": {},
   "outputs": [],
   "source": [
    "#using mmh3 hash function\n",
    "import operator\n",
    "from collections import Counter\n",
    "from bitarray import bitarray\n",
    "import mmh3\n",
    "import math"
   ]
  },
  {
   "cell_type": "code",
   "execution_count": 22,
   "metadata": {},
   "outputs": [
    {
     "name": "stdout",
     "output_type": "stream",
     "text": [
      "ε = 0.0001 | δ = 0.0001 | w = 27183 | d = 9 \n",
      "The total difference between the frequency of the 10 most frequent results of count min and the ground truth: \n",
      "0 \n",
      "\n",
      "ε = 0.0001 | δ = 0.001 | w = 27183 | d = 7 \n",
      "The total difference between the frequency of the 10 most frequent results of count min and the ground truth: \n",
      "0 \n",
      "\n",
      "ε = 0.0001 | δ = 0.01 | w = 27183 | d = 5 \n",
      "The total difference between the frequency of the 10 most frequent results of count min and the ground truth: \n",
      "0 \n",
      "\n",
      "ε = 0.001 | δ = 0.0001 | w = 2718 | d = 9 \n",
      "The total difference between the frequency of the 10 most frequent results of count min and the ground truth: \n",
      "102 \n",
      "\n",
      "ε = 0.001 | δ = 0.001 | w = 2718 | d = 7 \n",
      "The total difference between the frequency of the 10 most frequent results of count min and the ground truth: \n",
      "107 \n",
      "\n",
      "ε = 0.001 | δ = 0.01 | w = 2718 | d = 5 \n",
      "The total difference between the frequency of the 10 most frequent results of count min and the ground truth: \n",
      "118 \n",
      "\n",
      "ε = 0.01 | δ = 0.0001 | w = 272 | d = 9 \n",
      "The total difference between the frequency of the 10 most frequent results of count min and the ground truth: \n",
      "2080 \n",
      "\n",
      "ε = 0.01 | δ = 0.001 | w = 272 | d = 7 \n",
      "The total difference between the frequency of the 10 most frequent results of count min and the ground truth: \n",
      "2097 \n",
      "\n",
      "ε = 0.01 | δ = 0.01 | w = 272 | d = 5 \n",
      "The total difference between the frequency of the 10 most frequent results of count min and the ground truth: \n",
      "2113 \n",
      "\n"
     ]
    }
   ],
   "source": [
    "e = 2.718281828\n",
    "\n",
    "#initialize ε and δ\n",
    "for epsilon in [0.0001, 0.001, 0.01]:\n",
    "    for delta in [0.0001, 0.001, 0.01]:\n",
    "        # derive w and d\n",
    "        w = round(e/epsilon)\n",
    "        d = round(math.log(1/delta))\n",
    "\n",
    "        # create count min\n",
    "        cm = CountMin(w, d)\n",
    "\n",
    "        # streaming and adding to matrix\n",
    "        for ip in stream_ips:\n",
    "                cm.add(ip)\n",
    "                \n",
    "        # find frequency and store it to cm_res\n",
    "        cm_res = {}\n",
    "        for ip in stream_ips:\n",
    "            cm_res[ip] = cm.point(ip)\n",
    "\n",
    "        # Sort them according to their value to find the 10 most frequent ones\n",
    "        sorted_cm = sorted(cm_res.items(), key=operator.itemgetter(1), reverse = True)\n",
    "\n",
    "        diff = 0\n",
    "        for i in range(10):\n",
    "            diff+= abs(sorted_cm[i][1] - sorted_el[i][1])\n",
    "\n",
    "        print(\"ε = %s | δ = %s | w = %s | d = %s \" %(epsilon, delta, w, d))\n",
    "        print(\"The total difference between the frequency of the 10 most frequent results of count min and the ground truth: \\n%s \\n\"%diff)"
   ]
  },
  {
   "cell_type": "code",
   "execution_count": null,
   "metadata": {
    "collapsed": true
   },
   "outputs": [],
   "source": []
  }
 ],
 "metadata": {
  "kernelspec": {
   "display_name": "Python 3",
   "language": "python",
   "name": "python3"
  },
  "language_info": {
   "codemirror_mode": {
    "name": "ipython",
    "version": 3
   },
   "file_extension": ".py",
   "mimetype": "text/x-python",
   "name": "python",
   "nbconvert_exporter": "python",
   "pygments_lexer": "ipython3",
   "version": "3.6.4"
  }
 },
 "nbformat": 4,
 "nbformat_minor": 2
}
